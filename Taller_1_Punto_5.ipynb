{
 "cells": [
  {
   "cell_type": "code",
   "execution_count": 1,
   "metadata": {},
   "outputs": [
    {
     "name": "stdout",
     "output_type": "stream",
     "text": [
      "La suma de 98.0 con 7.0 es mayor a 8.0\n"
     ]
    }
   ],
   "source": [
    "#programa que lea tres numeros reales y determine si la suma de los dos primeros es mayor, menor o igual que el tercer numero.\n",
    "n: float\n",
    "x: float\n",
    "y: float\n",
    "n = float(input('Ingrese el primer numero '))\n",
    "x = float(input('Ingrese un segundo numero '))\n",
    "y = float(input('Ingrese el tercer numero '))\n",
    "\n",
    "if n + x == y:\n",
    "  print(\"La suma de \" +str(n)+ \" con \"+str(x)+ \" es igual a \" +str(y))\n",
    "else:\n",
    "  if n + x > y:\n",
    "    print(\"La suma de \" +str(n)+ \" con \"+str(x)+ \" es mayor a \" +str(y))\n",
    "  if n + x < y:\n",
    "    print(\"La suma de \" +str(n)+ \" con \"+str(x)+ \" es menor a \" +str(y))"
   ]
  }
 ],
 "metadata": {
  "kernelspec": {
   "display_name": "Python 3",
   "language": "python",
   "name": "python3"
  },
  "language_info": {
   "codemirror_mode": {
    "name": "ipython",
    "version": 3
   },
   "file_extension": ".py",
   "mimetype": "text/x-python",
   "name": "python",
   "nbconvert_exporter": "python",
   "pygments_lexer": "ipython3",
   "version": "3.12.2"
  }
 },
 "nbformat": 4,
 "nbformat_minor": 2
}
