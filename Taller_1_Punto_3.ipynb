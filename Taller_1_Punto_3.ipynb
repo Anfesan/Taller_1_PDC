{
 "cells": [
  {
   "cell_type": "code",
   "execution_count": 7,
   "metadata": {},
   "outputs": [
    {
     "name": "stdout",
     "output_type": "stream",
     "text": [
      "El numero 12354.0 es par\n"
     ]
    }
   ],
   "source": [
    "#Par or Impar\n",
    "numero_evaluado=float(input(\"Ingrese numero entero: \")) #definiendo numero como float para evitar errores con inputs reales\n",
    "calculo_par:float=numero_evaluado%2 #evaluado el numero y su modulo, si es par dara un modulo 0\n",
    "if calculo_par==0: #Condicion para imprimir par o impar\n",
    "    print(\"El numero \"+str(numero_evaluado)+\" es par\")\n",
    "else:\n",
    "    print (\"El numero \"+str(numero_evaluado)+\"  es impar\")\n"
   ]
  }
 ],
 "metadata": {
  "kernelspec": {
   "display_name": "Python 3",
   "language": "python",
   "name": "python3"
  },
  "language_info": {
   "codemirror_mode": {
    "name": "ipython",
    "version": 3
   },
   "file_extension": ".py",
   "mimetype": "text/x-python",
   "name": "python",
   "nbconvert_exporter": "python",
   "pygments_lexer": "ipython3",
   "version": "3.12.2"
  }
 },
 "nbformat": 4,
 "nbformat_minor": 2
}
