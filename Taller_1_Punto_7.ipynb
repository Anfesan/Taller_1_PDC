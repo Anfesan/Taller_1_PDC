{
 "cells": [
  {
   "cell_type": "code",
   "execution_count": 1,
   "metadata": {},
   "outputs": [
    {
     "name": "stdout",
     "output_type": "stream",
     "text": [
      "el promedio es: 3.0\n",
      "La mediana es: 1.0\n",
      "el promedio multiplicatovo es: 2.352158045049347\n",
      "los numeros de menor a mayor son: 3.0 4.0 1.0 1.0 6.0\n",
      "los numeros de mayor a menor son: 6.0 1.0 1.0 4.0 3.0\n",
      "la potencia de 6.0 a la 3.0 es: 216.0\n",
      "la Raíz Cubica de 3.0 es: 1.4422495703074083\n"
     ]
    }
   ],
   "source": [
    "# Ingresar 5 números\n",
    "a = float(input(\"Ingrese el número a: \"))\n",
    "b = float(input(\"Ingrese el número b: \"))\n",
    "c = float(input(\"Ingrese el número c: \"))\n",
    "d = float(input(\"Ingrese el número d: \"))\n",
    "e = float(input(\"Ingrese el número e: \"))\n",
    "\n",
    "f=(a+b+c+d+e)/5\n",
    "m1=a\n",
    "m2=b\n",
    "m3=c\n",
    "m4=d\n",
    "m5=e\n",
    "\n",
    "if m1 > m2:\n",
    "    m1, m2 = m2, m1\n",
    "    if m1 > m3:\n",
    "        m1, m3 = m3, m1\n",
    "    if m1 > m4:\n",
    "        m1, m4 = m4, m1\n",
    "    if m1 > m5:\n",
    "        m1, m5 = m5, m1\n",
    "\n",
    "if m2 > m3:\n",
    "    m2, m3 = m3, m2\n",
    "    if m2 > m4:\n",
    "        m2, m4 = m4, m2\n",
    "    if m2 > m5:\n",
    "        m2, m5 = m5, m2\n",
    "\n",
    "if m3 > m4:\n",
    "    m3, m4 = m4, m3\n",
    "    if m3 > m5:\n",
    "        m3, m5 = m5, m3\n",
    "\n",
    "if m4 > m5:\n",
    "    m4, m5 = m5, m4\n",
    "\n",
    "    \n",
    "\n",
    "mediana = m3  \n",
    "\n",
    "g=m5**m1\n",
    "\n",
    "r=m1**(1/3)\n",
    "\n",
    "r2=(a*b*c*d*e)**(1/5)\n",
    "\n",
    "print(\"el promedio es:\", f)\n",
    "print(\"La mediana es:\", mediana)\n",
    "print(\"el promedio multiplicatovo es: \" + str(r2))\n",
    "print(\"los numeros de menor a mayor son:\", m1, m2, m3, m4, m5)\n",
    "print(\"los numeros de mayor a menor son:\", m5, m4, m3, m2, m1 )\n",
    "print(\"la potencia de \" + str(m5) + \" a la \" + str(m1) + \" es: \" + str(g))\n",
    "print(\"la Raíz Cubica de \" + str(m1) + \" es: \" + str(r))"
   ]
  }
 ],
 "metadata": {
  "kernelspec": {
   "display_name": "Python 3",
   "language": "python",
   "name": "python3"
  },
  "language_info": {
   "codemirror_mode": {
    "name": "ipython",
    "version": 3
   },
   "file_extension": ".py",
   "mimetype": "text/x-python",
   "name": "python",
   "nbconvert_exporter": "python",
   "pygments_lexer": "ipython3",
   "version": "3.12.2"
  }
 },
 "nbformat": 4,
 "nbformat_minor": 2
}
