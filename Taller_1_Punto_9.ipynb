{
 "cells": [
  {
   "cell_type": "code",
   "execution_count": 2,
   "metadata": {},
   "outputs": [
    {
     "name": "stdout",
     "output_type": "stream",
     "text": [
      "Su capital es : Washington D. C.\n"
     ]
    }
   ],
   "source": [
    "#Taller_1_Punto_9\n",
    "nacion=(input(\"Ingrese un país de America en minusculas (sensible a tildes y espacios) :\"))\n",
    "if str(nacion)== str(\"antigua y barbuda\"):\n",
    "    print(\"Su capital es :\"\" Saint John’s\")\n",
    "elif str(nacion)== str(\"argentina\"):\n",
    "    print(\"Su capital es :\"\" Buenos Aires\")\n",
    "elif str(nacion)== str(\"bahamas\"):\n",
    "    print(\"Su capital es :\"\" Nasáu\")\n",
    "elif str(nacion)== str(\"barbados\"):\n",
    "    print(\"Su capital es :\"\" Bridgetown\")\n",
    "elif str(nacion)== str(\"belice\"):\n",
    "    print(\"Su capital es :\"\" Belmopán\")\n",
    "elif str(nacion)== str(\"bolivia\"):\n",
    "    print(\"Su capital es :\"\" Sucre\")\n",
    "elif str(nacion)== str(\"brasil\"):\n",
    "    print(\"Su capital es :\"\" Brasilia\")    \n",
    "elif str(nacion)== str(\"canadá\"):\n",
    "    print(\"Su capital es :\"\" Ottawa\")\n",
    "elif str(nacion)== str(\"chile\"):\n",
    "    print(\"Su capital es :\"\" Santiago\")\n",
    "elif str(nacion)== str(\"colombia\"):\n",
    "    print(\"Su capital es :\"\" Bogotá\")\n",
    "elif str(nacion)== str(\"costa Rica\"):\n",
    "    print(\"Su capital es :\"\" San José\")\n",
    "elif str(nacion)== str(\"cuba\"):\n",
    "    print(\"Su capital es :\"\" La Habana\")\n",
    "elif str(nacion)== str(\"dominica\"):\n",
    "    print(\"Su capital es :\"\" Roseau\")\n",
    "elif str(nacion)== str(\"ecuador\"):\n",
    "    print(\"Su capital es :\"\" Quito\")\n",
    "elif str(nacion)== str(\"el salvador\"):\n",
    "    print(\"Su capital es :\"\" San Salvador \")\n",
    "elif str(nacion)== str(\"estado unidos\"):\n",
    "    print(\"Su capital es :\"\" Washington D. C.\")\n",
    "elif str(nacion)== str(\"granada\"):\n",
    "    print(\"Su capital es :\"\" Saint George\")\n",
    "elif str(nacion)== str(\"guatemala\"):\n",
    "    print(\"Su capital es :\"\" Ciudad de Guatemala\")\n",
    "elif str(nacion)== str(\"guyana\"):\n",
    "    print(\"Su capital es :\"\" Georgetown\")\n",
    "elif str(nacion)== str(\"haití\"):\n",
    "    print(\"Su capital es :\"\" Puerto Príncipe\")\n",
    "elif str(nacion)== str(\"honduras\"):\n",
    "    print(\"Su capital es :\"\" Tegucigalpa\")\n",
    "elif str(nacion)== str(\"jamaica\"):\n",
    "    print(\"Su capital es :\"\" Kingston\")\n",
    "elif str(nacion)== str(\"méxico\"):\n",
    "    print(\"Su capital es :\"\"  Ciudad de México\")\n",
    "elif str(nacion)== str(\"nicaragua\"):\n",
    "    print(\"Su capital es :\"\" Managua\")\n",
    "elif str(nacion)== str(\"panamá\"):\n",
    "    print(\"Su capital es :\"\" Ciudad de Panamá \")\n",
    "elif str(nacion)== str(\"paraguay\"):\n",
    "    print(\"Su capital es :\"\" Asunción \")\n",
    "elif str(nacion)== str(\"perú\"):\n",
    "    print(\"Su capital es :\"\" Lima\")\n",
    "elif str(nacion)== str(\"república dominicana\"):\n",
    "    print(\"Su capital es :\"\"  Santo Domingo\")\n",
    "elif str(nacion)== str(\"san cristóbal y nieves\"):\n",
    "    print(\"Su capital es :\"\" Basseterre \")\n",
    "elif str(nacion)== str(\"san vicente y las granadinas\"):\n",
    "    print(\"Su capital es :\"\" Kingstown\")\n",
    "elif str(nacion)== str(\"santa lucia\"):\n",
    "    print(\"Su capital es :\"\" Castries\")\n",
    "elif str(nacion)== str(\"surinam\"):\n",
    "    print(\"Su capital es :\"\" paramaribo\")\n",
    "elif str(nacion)== str(\"trinidad y tobago\"):\n",
    "    print(\"Su capital es :\"\"  Puerto España\")\n",
    "elif str(nacion)== str(\"uruguay\"):\n",
    "    print(\"Su capital es :\"\" Montevideo\")\n",
    "elif str(nacion)== str(\"venezuela\"):\n",
    "    print(\"Su capital es :\"\" Caracas\")\n",
    "else :\n",
    "    print(\"país no identificado\")\n"
   ]
  }
 ],
 "metadata": {
  "kernelspec": {
   "display_name": "Python 3",
   "language": "python",
   "name": "python3"
  },
  "language_info": {
   "codemirror_mode": {
    "name": "ipython",
    "version": 3
   },
   "file_extension": ".py",
   "mimetype": "text/x-python",
   "name": "python",
   "nbconvert_exporter": "python",
   "pygments_lexer": "ipython3",
   "version": "3.12.2"
  }
 },
 "nbformat": 4,
 "nbformat_minor": 2
}
